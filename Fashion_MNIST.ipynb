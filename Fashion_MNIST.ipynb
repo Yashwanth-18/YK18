{
  "nbformat": 4,
  "nbformat_minor": 0,
  "metadata": {
    "colab": {
      "name": "Fashion MNIST.ipynb",
      "provenance": [],
      "collapsed_sections": [],
      "authorship_tag": "ABX9TyNFrhe1OkyZybDi9ofuQBda",
      "include_colab_link": true
    },
    "kernelspec": {
      "name": "python3",
      "display_name": "Python 3"
    }
  },
  "cells": [
    {
      "cell_type": "markdown",
      "metadata": {
        "id": "view-in-github",
        "colab_type": "text"
      },
      "source": [
        "<a href=\"https://colab.research.google.com/github/Yashwanth-18/YK18/blob/master/Fashion_MNIST.ipynb\" target=\"_parent\"><img src=\"https://colab.research.google.com/assets/colab-badge.svg\" alt=\"Open In Colab\"/></a>"
      ]
    },
    {
      "cell_type": "code",
      "metadata": {
        "id": "DZKb-BlV4mr7",
        "colab_type": "code",
        "colab": {}
      },
      "source": [
        "# Image data\n",
        "# Image consists of many pixels\n",
        "# Dataset : Fashion MNIST dataset or MNIST dataset  - Handwritten digits in the format of 28*28 pixels"
      ],
      "execution_count": null,
      "outputs": []
    },
    {
      "cell_type": "code",
      "metadata": {
        "id": "QuBurpve7Nlq",
        "colab_type": "code",
        "colab": {
          "base_uri": "https://localhost:8080/",
          "height": 35
        },
        "outputId": "742eccef-5134-4913-889f-c16665fbf606"
      },
      "source": [
        "import tensorflow as tf\n",
        "tf.__version__"
      ],
      "execution_count": null,
      "outputs": [
        {
          "output_type": "execute_result",
          "data": {
            "application/vnd.google.colaboratory.intrinsic+json": {
              "type": "string"
            },
            "text/plain": [
              "'2.3.0'"
            ]
          },
          "metadata": {
            "tags": []
          },
          "execution_count": 2
        }
      ]
    },
    {
      "cell_type": "markdown",
      "metadata": {
        "id": "dks4TNpO7k7v",
        "colab_type": "text"
      },
      "source": [
        "https://github.com/zalandoresearch/fashion-mnist\n",
        "https://github.com/zalandoresearch/fashion-mnisthttps://github.com/zalandoresearch/fashion-mnist\n",
        "https://www.tensorflow.org/api_docs/python/tf/keras/layers/Dense"
      ]
    },
    {
      "cell_type": "code",
      "metadata": {
        "id": "AXlAlfIC7Yfp",
        "colab_type": "code",
        "colab": {
          "base_uri": "https://localhost:8080/",
          "height": 170
        },
        "outputId": "afeab20b-e609-4fa2-9cff-310a827ce958"
      },
      "source": [
        "fashion = tf.keras.datasets.fashion_mnist\n",
        "(x_train,y_train),(x_test,y_test)=fashion.load_data()\n"
      ],
      "execution_count": null,
      "outputs": [
        {
          "output_type": "stream",
          "text": [
            "Downloading data from https://storage.googleapis.com/tensorflow/tf-keras-datasets/train-labels-idx1-ubyte.gz\n",
            "32768/29515 [=================================] - 0s 0us/step\n",
            "Downloading data from https://storage.googleapis.com/tensorflow/tf-keras-datasets/train-images-idx3-ubyte.gz\n",
            "26427392/26421880 [==============================] - 0s 0us/step\n",
            "Downloading data from https://storage.googleapis.com/tensorflow/tf-keras-datasets/t10k-labels-idx1-ubyte.gz\n",
            "8192/5148 [===============================================] - 0s 0us/step\n",
            "Downloading data from https://storage.googleapis.com/tensorflow/tf-keras-datasets/t10k-images-idx3-ubyte.gz\n",
            "4423680/4422102 [==============================] - 0s 0us/step\n"
          ],
          "name": "stdout"
        }
      ]
    },
    {
      "cell_type": "code",
      "metadata": {
        "id": "K2wDI_3h8U40",
        "colab_type": "code",
        "colab": {}
      },
      "source": [
        "# x_train - Training Input (60000)\n",
        "# y_test - Training output  (60000)\n",
        "# x_train - Training Input   (10000)\n",
        "# y_test - Training output   (10000)\n"
      ],
      "execution_count": null,
      "outputs": []
    },
    {
      "cell_type": "code",
      "metadata": {
        "id": "_PjG_Jj79BZq",
        "colab_type": "code",
        "colab": {
          "base_uri": "https://localhost:8080/",
          "height": 33
        },
        "outputId": "2fd64784-1259-494c-c3d7-35436af96da1"
      },
      "source": [
        "x_train.shape"
      ],
      "execution_count": null,
      "outputs": [
        {
          "output_type": "execute_result",
          "data": {
            "text/plain": [
              "(60000, 28, 28)"
            ]
          },
          "metadata": {
            "tags": []
          },
          "execution_count": 5
        }
      ]
    },
    {
      "cell_type": "code",
      "metadata": {
        "id": "7TmuhKP_8yiQ",
        "colab_type": "code",
        "colab": {
          "base_uri": "https://localhost:8080/",
          "height": 33
        },
        "outputId": "27d04e8c-d298-4a7e-8940-736e65551103"
      },
      "source": [
        "x_test.shape"
      ],
      "execution_count": null,
      "outputs": [
        {
          "output_type": "execute_result",
          "data": {
            "text/plain": [
              "(10000, 28, 28)"
            ]
          },
          "metadata": {
            "tags": []
          },
          "execution_count": 6
        }
      ]
    },
    {
      "cell_type": "code",
      "metadata": {
        "id": "fnM6B3V582dj",
        "colab_type": "code",
        "colab": {
          "base_uri": "https://localhost:8080/",
          "height": 33
        },
        "outputId": "88117971-20ea-4878-9e90-c1cdb770f1ae"
      },
      "source": [
        "y_train[0]"
      ],
      "execution_count": null,
      "outputs": [
        {
          "output_type": "execute_result",
          "data": {
            "text/plain": [
              "9"
            ]
          },
          "metadata": {
            "tags": []
          },
          "execution_count": 7
        }
      ]
    },
    {
      "cell_type": "code",
      "metadata": {
        "id": "my8qx2H3ieZu",
        "colab_type": "code",
        "colab": {
          "base_uri": "https://localhost:8080/",
          "height": 33
        },
        "outputId": "d7f262db-64b0-466e-fea3-27736a6005db"
      },
      "source": [
        "y_train[569]"
      ],
      "execution_count": null,
      "outputs": [
        {
          "output_type": "execute_result",
          "data": {
            "text/plain": [
              "7"
            ]
          },
          "metadata": {
            "tags": []
          },
          "execution_count": 8
        }
      ]
    },
    {
      "cell_type": "code",
      "metadata": {
        "id": "nmNtelC8ilZ3",
        "colab_type": "code",
        "colab": {}
      },
      "source": [
        "# a =np.array([0,0,0,0,0,0,0,1,0,0])   #One hot encoding of 7 out of 10 values"
      ],
      "execution_count": null,
      "outputs": []
    },
    {
      "cell_type": "code",
      "metadata": {
        "id": "Hf32i_Nzi2aC",
        "colab_type": "code",
        "colab": {
          "base_uri": "https://localhost:8080/",
          "height": 1000
        },
        "outputId": "2af54d43-7c4e-45e9-c359-5e18b0a006d3"
      },
      "source": [
        "x_train[569]"
      ],
      "execution_count": null,
      "outputs": [
        {
          "output_type": "execute_result",
          "data": {
            "text/plain": [
              "array([[  0,   0,   0,   0,   0,   0,   0,   0,   0,   0,   0,   0,   0,\n",
              "          0,   0,   0,   0,   0,   0,   0,   0,   0,   0,   0,   0,   0,\n",
              "          0,   0],\n",
              "       [  0,   0,   0,   0,   0,   0,   0,   0,   0,   0,   0,   0,   0,\n",
              "          0,   0,   0,   0,   0,   0,   0,   0,   0,   0,   0,   0,   0,\n",
              "          0,   0],\n",
              "       [  0,   0,   0,   0,   0,   0,   0,   0,   0,   0,   0,   0,   0,\n",
              "          0,   0,   0,   0,   0,   0,   0,   0,   0,   0,   0,   0,   0,\n",
              "          0,   0],\n",
              "       [  0,   0,   0,   0,   0,   0,   0,   0,   0,   0,   0,   0,   0,\n",
              "          0,   0,   0,   0,   0,   0,   0,   0,   0,   0,   0,   0,   0,\n",
              "          0,   0],\n",
              "       [  0,   0,   0,   0,   0,   0,   0,   0,   0,   0,   0,   0,   0,\n",
              "          0,   0,   0,   0,   0,   0,   0,   0,   0,   0,   0,   0,   0,\n",
              "          0,   0],\n",
              "       [  0,   0,   0,   0,   0,   0,   0,   0,   0,   0,   0,   0,   0,\n",
              "          0,   0,   0,   0,   0,   0,   0,   0,   0,   0,   0,   0,   0,\n",
              "          0,   0],\n",
              "       [  0,   0,   0,   0,   0,   0,   0,   0,   0,   0,   0,   0,   0,\n",
              "          0,   0,   0,   0,   0,   0,   0,   0,   0,   0,   0,   0,   0,\n",
              "          0,   0],\n",
              "       [  0,   0,   0,   0,   0,   0,   0,   0,   0,   0,   0,   0,   0,\n",
              "          0,   0,   0,   0,   0,   0,   0,   0,   0,   0,   0,   0,   0,\n",
              "          0,   0],\n",
              "       [  0,   0,   0,   0,   0,   0,   0,   0,   0,   1,   2,   0,   1,\n",
              "          0,   0,   1,   0,   0,   0,   0,   0,   0,   0,   1,   0,   0,\n",
              "          0,   0],\n",
              "       [  0,   0,   0,   0,   0,   0,   0,   0,   0,   1,   0,   2,   2,\n",
              "          3,   0,   0,  25,  74,   5,   0,   0,   0,   0,   0,   0,   2,\n",
              "          4,   0],\n",
              "       [  0,   0,   0,   0,   0,   0,   0,   0,   0,   3,   0,   0,   0,\n",
              "          0,   0,   0, 185, 195,   0,   0,   2,   3,   2,   0,   1,   0,\n",
              "          0,   0],\n",
              "       [  0,   0,   0,   0,   0,   2,   3,   0,   0,   0,   0,   0,   2,\n",
              "         23, 116, 202, 186, 205,   4,   0,   0,   0,   0,   0,   0,  57,\n",
              "         74,   0],\n",
              "       [  0,   0,   1,   2,   0,   0,   0,   0,   0,   0,  64, 160, 190,\n",
              "        220, 253, 215, 211, 217, 254, 148,  46,  27,   4,  12,  81, 197,\n",
              "        161,   0],\n",
              "       [  1,   4,   0,   0,   0,   0,  17,  60, 168, 216, 243, 225, 220,\n",
              "        236, 205, 218, 220, 208, 222, 243, 255, 255, 253, 255, 212, 195,\n",
              "        180,   0],\n",
              "       [  0,   0,   0,  38, 129, 176, 217, 210, 226, 213, 218, 212, 215,\n",
              "        213, 211, 214, 218, 216, 208, 219, 224, 228, 227, 227, 199, 192,\n",
              "        215,   0],\n",
              "       [  0, 144, 209, 224, 228, 217, 210, 217, 198, 205, 206, 214, 213,\n",
              "        210, 208, 195, 210, 217, 217, 209, 209, 216, 221, 228, 196, 182,\n",
              "        226,  42],\n",
              "       [  1,  68, 108, 132, 152, 181, 206, 236, 250, 253, 255, 254, 255,\n",
              "        254, 255, 255, 255, 255, 255, 252, 251, 248, 240, 206, 202, 184,\n",
              "        211,  94],\n",
              "       [ 38,  23,   0,   0,   0,   0,   0,  14,  28,  38,  45,  47,  47,\n",
              "         58,  62,  59,  55,  48,  40,  38,  26,  15,   0,   0, 189, 184,\n",
              "        184, 150],\n",
              "       [ 19,  51,  66,  71,  64,  44,  40,  30,  13,  13,  14,  11,  10,\n",
              "         10,  13,  14,  15,  19,  22,  25,  30,  39,  10, 103, 255, 218,\n",
              "        227, 179],\n",
              "       [  0,   0,   0,   6,  19,  28,  33,  41,  50,  54,  51,  47,  46,\n",
              "         47,  47,  44,  43,  44,  36,  35,  35,  38,   3,  78, 111,  38,\n",
              "         37,   0],\n",
              "       [  0,   0,   0,   0,   0,   0,   0,   0,   0,   0,   0,   0,   0,\n",
              "          0,   0,   0,   0,   0,   0,   0,   0,   0,   0,   0,   0,   0,\n",
              "          0,   0],\n",
              "       [  0,   0,   0,   0,   0,   0,   0,   0,   0,   0,   0,   0,   0,\n",
              "          0,   0,   0,   0,   0,   0,   0,   0,   0,   0,   0,   0,   0,\n",
              "          0,   0],\n",
              "       [  0,   0,   0,   0,   0,   0,   0,   0,   0,   0,   0,   0,   0,\n",
              "          0,   0,   0,   0,   0,   0,   0,   0,   0,   0,   0,   0,   0,\n",
              "          0,   0],\n",
              "       [  0,   0,   0,   0,   0,   0,   0,   0,   0,   0,   0,   0,   0,\n",
              "          0,   0,   0,   0,   0,   0,   0,   0,   0,   0,   0,   0,   0,\n",
              "          0,   0],\n",
              "       [  0,   0,   0,   0,   0,   0,   0,   0,   0,   0,   0,   0,   0,\n",
              "          0,   0,   0,   0,   0,   0,   0,   0,   0,   0,   0,   0,   0,\n",
              "          0,   0],\n",
              "       [  0,   0,   0,   0,   0,   0,   0,   0,   0,   0,   0,   0,   0,\n",
              "          0,   0,   0,   0,   0,   0,   0,   0,   0,   0,   0,   0,   0,\n",
              "          0,   0],\n",
              "       [  0,   0,   0,   0,   0,   0,   0,   0,   0,   0,   0,   0,   0,\n",
              "          0,   0,   0,   0,   0,   0,   0,   0,   0,   0,   0,   0,   0,\n",
              "          0,   0],\n",
              "       [  0,   0,   0,   0,   0,   0,   0,   0,   0,   0,   0,   0,   0,\n",
              "          0,   0,   0,   0,   0,   0,   0,   0,   0,   0,   0,   0,   0,\n",
              "          0,   0]], dtype=uint8)"
            ]
          },
          "metadata": {
            "tags": []
          },
          "execution_count": 10
        }
      ]
    },
    {
      "cell_type": "code",
      "metadata": {
        "id": "CriKYh7Li8dr",
        "colab_type": "code",
        "colab": {
          "base_uri": "https://localhost:8080/",
          "height": 33
        },
        "outputId": "2c40c240-a5eb-455e-a931-68c1cc2d0279"
      },
      "source": [
        "x_train[23].shape"
      ],
      "execution_count": null,
      "outputs": [
        {
          "output_type": "execute_result",
          "data": {
            "text/plain": [
              "(28, 28)"
            ]
          },
          "metadata": {
            "tags": []
          },
          "execution_count": 11
        }
      ]
    },
    {
      "cell_type": "code",
      "metadata": {
        "id": "RyenvXzBjIGG",
        "colab_type": "code",
        "colab": {
          "base_uri": "https://localhost:8080/",
          "height": 33
        },
        "outputId": "f034b8dc-735f-42b8-e94c-acbffdbc757f"
      },
      "source": [
        "import numpy as np\n",
        "z1 = np.array([[1,2,3],\n",
        "               [3,4,5],\n",
        "               [4,5,6]])\n",
        "z1_flat = z1.flatten()\n",
        "z1_flat"
      ],
      "execution_count": null,
      "outputs": [
        {
          "output_type": "execute_result",
          "data": {
            "text/plain": [
              "array([1, 2, 3, 3, 4, 5, 4, 5, 6])"
            ]
          },
          "metadata": {
            "tags": []
          },
          "execution_count": 12
        }
      ]
    },
    {
      "cell_type": "code",
      "metadata": {
        "id": "GfTu3GGL9PBv",
        "colab_type": "code",
        "colab": {
          "base_uri": "https://localhost:8080/",
          "height": 265
        },
        "outputId": "21f4fc68-6665-478a-be87-d0f8f85e6dbf"
      },
      "source": [
        "import matplotlib.pyplot as plt\n",
        "plt.imshow(x_train[34],cmap='gray')\n",
        "plt.show()"
      ],
      "execution_count": null,
      "outputs": [
        {
          "output_type": "display_data",
          "data": {
            "image/png": "[encoded data removed]",
            "text/plain": [
              "<Figure size 432x288 with 1 Axes>"
            ]
          },
          "metadata": {
            "tags": [],
            "needs_background": "light"
          }
        }
      ]
    },
    {
      "cell_type": "code",
      "metadata": {
        "id": "-Wt_O1QgjPur",
        "colab_type": "code",
        "colab": {
          "base_uri": "https://localhost:8080/",
          "height": 33
        },
        "outputId": "0da7c255-4558-4e0d-fec5-6d6d5cd22794"
      },
      "source": [
        "x_train[34].max()"
      ],
      "execution_count": null,
      "outputs": [
        {
          "output_type": "execute_result",
          "data": {
            "text/plain": [
              "255"
            ]
          },
          "metadata": {
            "tags": []
          },
          "execution_count": 14
        }
      ]
    },
    {
      "cell_type": "code",
      "metadata": {
        "id": "QBT4R4M_9had",
        "colab_type": "code",
        "colab": {
          "base_uri": "https://localhost:8080/",
          "height": 33
        },
        "outputId": "df5b3a26-2ac2-4bc3-afd0-5d5cdba3ea3e"
      },
      "source": [
        "x_train[34].min()"
      ],
      "execution_count": null,
      "outputs": [
        {
          "output_type": "execute_result",
          "data": {
            "text/plain": [
              "0"
            ]
          },
          "metadata": {
            "tags": []
          },
          "execution_count": 15
        }
      ]
    },
    {
      "cell_type": "code",
      "metadata": {
        "id": "Li1xkJqY9lvs",
        "colab_type": "code",
        "colab": {}
      },
      "source": [
        "\n",
        "# Black - Least Value\n",
        "# White - Highest Value\n",
        "# 0-255 range of grayscale images\n"
      ],
      "execution_count": null,
      "outputs": []
    },
    {
      "cell_type": "code",
      "metadata": {
        "id": "3ymQvX52_IrG",
        "colab_type": "code",
        "colab": {}
      },
      "source": [
        "# Neural Network Architecture\n",
        "# Input Layer : Flatten Layer - 28*28 =784 Neurons\n",
        "# Hidden Layer : 512 Neurons (Any random number between output and input layer 10-784), Activation ='Relu\n",
        "# Output Layer : 10 Neurons , Activation = Sigmoid(binary) - Softmax(Multi-class)"
      ],
      "execution_count": null,
      "outputs": []
    },
    {
      "cell_type": "code",
      "metadata": {
        "id": "2Po4c2-CAbvz",
        "colab_type": "code",
        "colab": {}
      },
      "source": [
        "\n",
        "model = tf.keras.models.Sequential()\n",
        "model.add(tf.keras.layers.Flatten())\n",
        "model.add(tf.keras.layers.Dense(512,activation='relu'))\n",
        "model.add(tf.keras.layers.Dense(10,activation='softmax'))"
      ],
      "execution_count": null,
      "outputs": []
    },
    {
      "cell_type": "markdown",
      "metadata": {
        "id": "r8B-SgnSDvt4",
        "colab_type": "text"
      },
      "source": [
        "1.install python (Latest version into your PC)\n",
        "\n",
        "2.install opencv library through command prompt\n",
        "\n",
        " pip install opencv-python"
      ]
    },
    {
      "cell_type": "code",
      "metadata": {
        "id": "4QQNcfYLB7kF",
        "colab_type": "code",
        "colab": {}
      },
      "source": [
        "model.compile(optimizer='adam',loss='sparse_categorical_crossentropy',metrics='accuracy')"
      ],
      "execution_count": null,
      "outputs": []
    },
    {
      "cell_type": "code",
      "metadata": {
        "id": "SUxPo0HXWNQm",
        "colab_type": "code",
        "colab": {
          "base_uri": "https://localhost:8080/",
          "height": 204
        },
        "outputId": "000072ca-92f2-4f69-ee69-0565557b0e2c"
      },
      "source": [
        "history=model.fit(x_train,y_train,epochs=5)"
      ],
      "execution_count": null,
      "outputs": [
        {
          "output_type": "stream",
          "text": [
            "Epoch 1/5\n",
            "1875/1875 [==============================] - 6s 3ms/step - loss: 4.1111 - accuracy: 0.7660\n",
            "Epoch 2/5\n",
            "1875/1875 [==============================] - 6s 3ms/step - loss: 0.5392 - accuracy: 0.8150\n",
            "Epoch 3/5\n",
            "1875/1875 [==============================] - 6s 3ms/step - loss: 0.5076 - accuracy: 0.8292\n",
            "Epoch 4/5\n",
            "1875/1875 [==============================] - 6s 3ms/step - loss: 0.4912 - accuracy: 0.8339\n",
            "Epoch 5/5\n",
            "1875/1875 [==============================] - 6s 3ms/step - loss: 0.4841 - accuracy: 0.8377\n"
          ],
          "name": "stdout"
        }
      ]
    },
    {
      "cell_type": "code",
      "metadata": {
        "id": "OITl48LSXOQO",
        "colab_type": "code",
        "colab": {
          "base_uri": "https://localhost:8080/",
          "height": 33
        },
        "outputId": "224f6547-ccce-4278-c9f8-700abfa83c1c"
      },
      "source": [
        "y_pred=model.predict_classes(x_test)\n",
        "y_pred"
      ],
      "execution_count": null,
      "outputs": [
        {
          "output_type": "execute_result",
          "data": {
            "text/plain": [
              "array([7, 2, 1, ..., 8, 1, 5])"
            ]
          },
          "metadata": {
            "tags": []
          },
          "execution_count": 22
        }
      ]
    },
    {
      "cell_type": "code",
      "metadata": {
        "id": "mbUw7E6Xjsh8",
        "colab_type": "code",
        "colab": {
          "base_uri": "https://localhost:8080/",
          "height": 33
        },
        "outputId": "5544eef5-99b2-41a0-eae4-5c12dbdaa691"
      },
      "source": [
        "y_pred[0]"
      ],
      "execution_count": null,
      "outputs": [
        {
          "output_type": "execute_result",
          "data": {
            "text/plain": [
              "7"
            ]
          },
          "metadata": {
            "tags": []
          },
          "execution_count": 23
        }
      ]
    },
    {
      "cell_type": "code",
      "metadata": {
        "id": "39V4Ur89j8xA",
        "colab_type": "code",
        "colab": {
          "base_uri": "https://localhost:8080/",
          "height": 33
        },
        "outputId": "ec6dd022-2d12-4267-8d2c-add52edfcfb7"
      },
      "source": [
        "np.argmax(y_pred[0])"
      ],
      "execution_count": null,
      "outputs": [
        {
          "output_type": "execute_result",
          "data": {
            "text/plain": [
              "0"
            ]
          },
          "metadata": {
            "tags": []
          },
          "execution_count": 24
        }
      ]
    },
    {
      "cell_type": "code",
      "metadata": {
        "id": "ETfgbz-xXYGb",
        "colab_type": "code",
        "colab": {
          "base_uri": "https://localhost:8080/",
          "height": 33
        },
        "outputId": "f6d74b18-7d16-40f0-c7a9-62041cd16239"
      },
      "source": [
        "np.argmax(model.predict(x_test),axis= -1)"
      ],
      "execution_count": null,
      "outputs": [
        {
          "output_type": "execute_result",
          "data": {
            "text/plain": [
              "array([7, 2, 1, ..., 8, 1, 5])"
            ]
          },
          "metadata": {
            "tags": []
          },
          "execution_count": 25
        }
      ]
    },
    {
      "cell_type": "code",
      "metadata": {
        "id": "5o-JWfsGXpaa",
        "colab_type": "code",
        "colab": {
          "base_uri": "https://localhost:8080/",
          "height": 33
        },
        "outputId": "cd9432f8-6e6a-4f35-ecb8-38c1e6451681"
      },
      "source": [
        "y_pred[0]"
      ],
      "execution_count": null,
      "outputs": [
        {
          "output_type": "execute_result",
          "data": {
            "text/plain": [
              "7"
            ]
          },
          "metadata": {
            "tags": []
          },
          "execution_count": 26
        }
      ]
    },
    {
      "cell_type": "code",
      "metadata": {
        "id": "jaUDOI1pXuqk",
        "colab_type": "code",
        "colab": {
          "base_uri": "https://localhost:8080/",
          "height": 33
        },
        "outputId": "0c19daf0-ff30-49ef-f8e1-888c100f03a7"
      },
      "source": [
        "np.argmax(y_pred[0])"
      ],
      "execution_count": null,
      "outputs": [
        {
          "output_type": "execute_result",
          "data": {
            "text/plain": [
              "0"
            ]
          },
          "metadata": {
            "tags": []
          },
          "execution_count": 27
        }
      ]
    },
    {
      "cell_type": "code",
      "metadata": {
        "id": "zIsqj4j1X9WL",
        "colab_type": "code",
        "colab": {}
      },
      "source": [
        "#Evaluation\n",
        "from sklearn.metrics import accuracy_score,confusion_matrix"
      ],
      "execution_count": null,
      "outputs": []
    },
    {
      "cell_type": "code",
      "metadata": {
        "id": "Q3Vx72qgYcyY",
        "colab_type": "code",
        "colab": {
          "base_uri": "https://localhost:8080/",
          "height": 33
        },
        "outputId": "af87235c-309e-4890-9694-7fbfc52b0b31"
      },
      "source": [
        "accuracy_score(y_pred,y_test)"
      ],
      "execution_count": null,
      "outputs": [
        {
          "output_type": "execute_result",
          "data": {
            "text/plain": [
              "0.8181"
            ]
          },
          "metadata": {
            "tags": []
          },
          "execution_count": 29
        }
      ]
    },
    {
      "cell_type": "code",
      "metadata": {
        "id": "CfOpUYozYjJ2",
        "colab_type": "code",
        "colab": {
          "base_uri": "https://localhost:8080/",
          "height": 184
        },
        "outputId": "c2818c58-1fb9-4d1c-c069-539167deb05e"
      },
      "source": [
        "confusion_matrix(y_pred,y_test)"
      ],
      "execution_count": null,
      "outputs": [
        {
          "output_type": "execute_result",
          "data": {
            "text/plain": [
              "array([[825,   3,  13,  24,   0,   0, 212,   0,   4,   0],\n",
              "       [  0, 951,   1,   7,   1,   0,   1,   0,   0,   0],\n",
              "       [ 24,   3, 762,  11, 130,   0, 150,   0,  15,   0],\n",
              "       [ 83,  34,  17, 918,  75,   0,  62,   0,   6,   0],\n",
              "       [  1,   1, 141,  13, 727,   0,  88,   0,   6,   0],\n",
              "       [  0,   0,   0,   0,   0, 832,   0,   2,   2,  34],\n",
              "       [ 49,   3,  47,  17,  61,   2, 457,   0,   3,   1],\n",
              "       [  0,   0,   0,   0,   0, 143,   0, 989,   7, 202],\n",
              "       [ 18,   5,  19,  10,   6,   8,  30,   1, 957,   0],\n",
              "       [  0,   0,   0,   0,   0,  15,   0,   8,   0, 763]])"
            ]
          },
          "metadata": {
            "tags": []
          },
          "execution_count": 30
        }
      ]
    },
    {
      "cell_type": "code",
      "metadata": {
        "id": "ohTMhqvCYuBZ",
        "colab_type": "code",
        "colab": {
          "base_uri": "https://localhost:8080/",
          "height": 33
        },
        "outputId": "2314117c-b8bb-4309-f522-b4371246c2f4"
      },
      "source": [
        "accuracy_score(y_pred,y_test)"
      ],
      "execution_count": null,
      "outputs": [
        {
          "output_type": "execute_result",
          "data": {
            "text/plain": [
              "0.8181"
            ]
          },
          "metadata": {
            "tags": []
          },
          "execution_count": 31
        }
      ]
    },
    {
      "cell_type": "code",
      "metadata": {
        "id": "JnePg_NLY0Qd",
        "colab_type": "code",
        "colab": {
          "base_uri": "https://localhost:8080/",
          "height": 283
        },
        "outputId": "05daf503-b32a-474d-a293-2ce5b04e74e7"
      },
      "source": [
        "plt.plot(history.history['accuracy'])"
      ],
      "execution_count": null,
      "outputs": [
        {
          "output_type": "execute_result",
          "data": {
            "text/plain": [
              "[<matplotlib.lines.Line2D at 0x7fc7a0fb4390>]"
            ]
          },
          "metadata": {
            "tags": []
          },
          "execution_count": 32
        },
        {
          "output_type": "display_data",
          "data": {
            "image/png": "[encoded data removed]",
            "text/plain": [
              "<Figure size 432x288 with 1 Axes>"
            ]
          },
          "metadata": {
            "tags": [],
            "needs_background": "light"
          }
        }
      ]
    },
    {
      "cell_type": "code",
      "metadata": {
        "id": "R6R92D4IZmpM",
        "colab_type": "code",
        "colab": {
          "base_uri": "https://localhost:8080/",
          "height": 1000
        },
        "outputId": "a5345bea-ddc4-449b-ec05-f034fa740c4e"
      },
      "source": [
        "model.get_weights()"
      ],
      "execution_count": null,
      "outputs": [
        {
          "output_type": "execute_result",
          "data": {
            "text/plain": [
              "[array([[ 0.03251557,  0.02646711, -0.04843374, ...,  0.05301509,\n",
              "         -0.06517285, -0.00909963],\n",
              "        [ 0.01740489, -0.04947153,  0.0257097 , ...,  0.01772524,\n",
              "         -0.0333601 ,  0.02726921],\n",
              "        [-0.02210227,  0.01783275, -0.04959812, ...,  0.00218383,\n",
              "          0.06413269, -0.0163415 ],\n",
              "        ...,\n",
              "        [-0.04253322, -0.01390458, -0.06422894, ...,  0.01354416,\n",
              "          0.06865118, -0.00392115],\n",
              "        [-0.04675923, -0.05553471, -0.03505782, ..., -0.01927107,\n",
              "         -0.00209238, -0.07490682],\n",
              "        [-0.03290867,  0.04130176, -0.02640436, ..., -0.0483911 ,\n",
              "          0.03898934, -0.01339384]], dtype=float32),\n",
              " array([-2.61951843e-03, -2.26647146e-02, -1.03141423e-02, -9.65058152e-03,\n",
              "        -1.80187472e-03, -1.33240903e-02, -2.25786306e-02,  2.10602782e-04,\n",
              "        -1.46361245e-02, -3.91140245e-02, -1.25155794e-02, -1.33353453e-02,\n",
              "        -4.83220769e-03, -1.59018915e-02,  2.52920538e-02,  5.19946543e-03,\n",
              "        -3.44920605e-02, -2.54364740e-02, -2.87862346e-02, -2.47817077e-02,\n",
              "        -2.73253452e-02, -5.50754787e-03, -1.06044514e-02, -3.10077798e-03,\n",
              "        -1.89839266e-02, -1.25609962e-02, -3.04714851e-02, -1.69013124e-02,\n",
              "        -4.79412414e-02, -1.41107263e-02, -2.41322387e-02, -8.14879406e-03,\n",
              "        -3.95854488e-02, -4.29883301e-02,  5.72908036e-02, -2.89443210e-02,\n",
              "        -1.62163302e-02, -6.93018585e-02, -1.65522210e-02,  1.39410578e-04,\n",
              "        -4.42884602e-02, -1.70461927e-02, -1.05974684e-02, -1.47612048e-02,\n",
              "        -4.53978172e-03, -9.52361897e-03, -5.66696003e-02, -2.00843848e-02,\n",
              "        -1.32196890e-02,  1.99038107e-02, -9.25708003e-03, -2.18812097e-02,\n",
              "        -6.15206361e-03, -1.15544815e-02, -6.51715416e-03, -3.30721103e-02,\n",
              "        -3.43939615e-03, -6.96801953e-03, -1.85676459e-02, -6.01306856e-05,\n",
              "        -1.04294391e-02, -2.25320123e-02,  1.46661634e-02, -1.21715739e-02,\n",
              "        -1.37296245e-02, -9.16820113e-03, -1.57676507e-02, -1.13775125e-02,\n",
              "        -8.30896106e-03, -2.16004867e-02, -9.00323130e-03, -1.71281517e-01,\n",
              "        -1.58723928e-02, -2.38715690e-02, -4.61919010e-02,  6.82759192e-03,\n",
              "        -2.71961689e-02, -6.03459869e-03, -2.32962687e-02,  9.60130244e-03,\n",
              "        -3.00186183e-02, -1.37720359e-02, -9.87362582e-03,  3.27205397e-02,\n",
              "        -1.79104861e-02,  1.42576522e-03, -1.43484436e-02, -1.90702733e-02,\n",
              "        -5.03075542e-03, -3.10829394e-02, -1.18573653e-02, -9.40670352e-03,\n",
              "        -1.78944378e-03, -1.30829820e-03, -7.35331653e-03, -5.37502207e-02,\n",
              "        -1.08768465e-02, -2.16072779e-02, -4.06613313e-02, -3.78804244e-02,\n",
              "        -1.87086016e-02, -3.65822725e-02, -1.57816801e-02, -1.94353350e-02,\n",
              "         4.35906276e-02, -1.71927437e-02,  5.61009236e-02,  3.91232707e-02,\n",
              "        -3.74274403e-02,  5.90389036e-02, -3.23454775e-02,  1.95061229e-02,\n",
              "        -1.46174226e-02, -2.91782133e-02,  6.57521332e-06, -3.14501300e-02,\n",
              "        -1.72252418e-03, -5.65417670e-03, -2.81737894e-02, -4.35293792e-03,\n",
              "        -8.33884627e-03, -1.12199560e-02, -2.39325035e-02,  1.16118006e-02,\n",
              "         1.36287380e-02,  8.19880068e-02, -9.59410705e-03, -5.42591698e-03,\n",
              "        -1.27883833e-02, -1.00255143e-02, -5.17288670e-02, -2.49239430e-02,\n",
              "        -2.78827697e-02, -2.04112064e-02, -9.64471698e-03, -2.61511672e-02,\n",
              "        -3.36696953e-03, -1.22514246e-02, -1.16799923e-03, -2.03326978e-02,\n",
              "        -6.04185797e-02,  5.42754680e-03, -2.77806427e-02, -3.03472783e-02,\n",
              "        -1.32675832e-02, -2.77902111e-02, -1.51916826e-02, -3.51295061e-02,\n",
              "        -1.55050866e-02, -2.91973595e-02, -3.53467688e-02, -1.34205129e-02,\n",
              "        -1.31568406e-02, -3.11185755e-02,  3.31480175e-01, -1.39258141e-02,\n",
              "        -1.80295948e-02, -3.25373262e-02, -3.26017663e-02, -1.04517573e-02,\n",
              "        -5.15769282e-03, -1.29513321e-02, -1.42374244e-02,  1.09380223e-01,\n",
              "        -3.28306900e-03, -2.52627525e-02, -1.74823515e-02,  2.61993576e-02,\n",
              "        -4.16197404e-02, -3.03533562e-02, -2.78485976e-02, -2.50464883e-02,\n",
              "        -1.54605890e-02, -1.30673796e-02, -1.59034040e-02, -3.31256650e-02,\n",
              "        -3.00506894e-02, -4.38829418e-03, -8.56792461e-03, -2.05372665e-02,\n",
              "        -2.37631090e-02,  1.22721940e-02, -9.32096504e-03,  5.92579180e-03,\n",
              "        -1.28947888e-02,  1.19241038e-02,  8.09930041e-02, -1.25075718e-02,\n",
              "        -1.24114184e-02, -4.42437641e-03, -1.79158803e-02, -3.73104587e-02,\n",
              "        -3.24324481e-02, -8.02901387e-03, -1.41944438e-02, -6.13272423e-03,\n",
              "        -1.33288000e-02, -1.07900593e-02,  6.59150584e-03, -1.39781479e-02,\n",
              "        -4.15383605e-03, -5.62047493e-03, -7.34727737e-03, -1.43419178e-02,\n",
              "        -3.35738100e-02, -2.96970401e-02, -1.63676292e-02, -3.22756208e-02,\n",
              "         9.59780253e-03, -2.17586122e-02,  2.95885210e-03, -1.94451567e-02,\n",
              "         2.66182870e-02, -3.98672000e-02, -3.19226310e-02,  3.05874627e-02,\n",
              "        -9.40503553e-03, -2.51287390e-02, -1.66060291e-02, -7.75440317e-03,\n",
              "        -2.82895584e-02,  5.96357649e-03, -1.89596582e-02, -1.11947032e-02,\n",
              "        -1.80972833e-02, -3.66621129e-02, -5.32137696e-03, -6.99123507e-03,\n",
              "        -1.65995788e-02,  1.06312975e-03, -9.24435258e-03, -1.60400346e-02,\n",
              "        -2.76337713e-02, -1.30273364e-02,  9.66039151e-02, -9.65521298e-03,\n",
              "        -1.51988110e-02,  4.19578940e-01, -1.01384176e-02, -3.33895683e-02,\n",
              "        -2.41776295e-02, -1.07511338e-02, -8.97884089e-03, -1.64453089e-02,\n",
              "        -3.94527242e-02,  3.41447885e-05, -1.09762419e-02, -1.04581788e-02,\n",
              "        -1.53030930e-02, -1.81940908e-04,  1.37171755e-02, -3.13363760e-03,\n",
              "        -3.21294218e-02, -2.45917719e-02, -2.55985260e-02, -1.67271607e-02,\n",
              "        -7.35612772e-03, -9.48517770e-03, -1.61521938e-02, -3.56415994e-02,\n",
              "        -5.10985125e-03, -1.40891960e-02, -1.11022834e-02, -2.51568463e-02,\n",
              "        -1.64716598e-02, -2.80359108e-02, -4.01486605e-02, -7.38355517e-03,\n",
              "         3.31323827e-03, -1.61048938e-02, -3.40128727e-02, -1.15012079e-02,\n",
              "        -2.36599203e-02, -8.33248347e-03,  1.70273054e-02, -3.13411765e-02,\n",
              "        -3.36828865e-02,  1.82176307e-01, -1.23726483e-02, -1.23543516e-02,\n",
              "        -3.36155929e-02, -1.25988536e-02, -1.34290094e-02, -1.90748833e-02,\n",
              "        -1.20246178e-03, -1.43591883e-02, -1.49879092e-02, -2.05321871e-02,\n",
              "        -3.86507227e-03, -1.85583383e-02, -1.58530697e-02, -1.07593676e-02,\n",
              "         1.98635925e-03, -2.41589975e-02, -1.93279609e-02, -3.43234576e-02,\n",
              "        -8.41902476e-03, -1.99322291e-02, -3.18179391e-02,  1.13228947e-01,\n",
              "        -1.74675765e-03, -1.18388906e-02, -5.25436774e-02, -1.76256374e-02,\n",
              "         1.37579860e-02, -2.05040295e-02, -1.95811056e-02, -2.15014368e-02,\n",
              "         7.46143237e-02, -1.51616465e-02, -4.33026254e-02, -2.35126149e-02,\n",
              "        -1.74312722e-02, -2.69480702e-02, -1.07286861e-02, -1.08629661e-02,\n",
              "        -1.80068817e-02, -3.97078274e-03, -2.18132790e-02, -3.85845522e-03,\n",
              "        -1.03101414e-02, -9.36353393e-03, -2.35878732e-02, -7.02334661e-03,\n",
              "        -8.40248726e-03, -1.95033886e-02, -2.34745666e-02, -1.47669418e-02,\n",
              "        -1.05707487e-02, -5.07871900e-03, -1.81168709e-02, -1.62124801e-02,\n",
              "        -1.83058959e-02, -1.34710679e-02, -1.45088416e-02, -2.86469590e-02,\n",
              "        -2.14309748e-02, -9.09380428e-03, -1.62574369e-02, -2.23256815e-02,\n",
              "         9.38369310e-04, -1.97887439e-02, -1.64194517e-02, -7.94179644e-03,\n",
              "        -1.97755154e-02, -2.20930129e-02, -1.99280381e-02, -1.97963249e-02,\n",
              "        -1.28080556e-02, -1.82851683e-02, -2.71409452e-02, -1.55342268e-02,\n",
              "        -2.91072093e-02, -2.52796430e-02, -2.17368659e-02, -3.10257878e-02,\n",
              "         1.87056120e-02, -1.90914702e-02, -1.31960092e-02, -3.46642174e-02,\n",
              "        -5.00508174e-02, -8.99879355e-03, -1.63252037e-02, -6.53343042e-03,\n",
              "        -2.13237368e-02, -1.27434107e-02, -1.12537993e-02, -4.00283709e-02,\n",
              "        -2.45161308e-03, -1.05731376e-02, -3.99737023e-02, -4.45503779e-02,\n",
              "         4.13237093e-03, -4.60183322e-02, -1.63036287e-02, -4.65239771e-02,\n",
              "        -1.59627851e-02, -3.45088467e-02, -2.65870411e-02, -7.65919732e-03,\n",
              "        -1.37631679e-02, -1.68600376e-03, -1.90652609e-02, -1.62117258e-02,\n",
              "        -2.10133772e-02, -2.42328199e-04,  6.23663596e-04, -2.42404379e-02,\n",
              "        -2.73337793e-02, -1.73217375e-02, -2.55588219e-02, -5.10501489e-02,\n",
              "        -1.60513446e-02, -6.66445354e-03, -2.45953929e-02, -3.52720707e-03,\n",
              "        -1.53113222e-02,  1.39550194e-02, -2.97908839e-02, -4.27299552e-02,\n",
              "        -1.57363825e-02, -1.61036581e-03,  4.00322629e-03,  3.88453878e-03,\n",
              "        -2.72908974e-02, -2.34845392e-02, -4.19320678e-03, -2.86992211e-02,\n",
              "        -2.61449404e-02, -1.68318357e-02, -2.15106942e-02, -9.99899674e-03,\n",
              "        -9.80096031e-03, -1.11237690e-02, -1.39535349e-02, -1.05094165e-02,\n",
              "        -2.07453277e-02, -1.14063090e-02, -2.36242227e-02, -2.42077801e-02,\n",
              "        -1.23103347e-03, -1.57297961e-02, -3.99339721e-02, -3.41391303e-02,\n",
              "        -2.61772163e-02, -2.87546664e-02, -2.24928893e-02, -2.27036048e-02,\n",
              "        -3.29443216e-02, -1.97589472e-02,  1.31763697e-01, -2.17832178e-02,\n",
              "        -3.85021940e-02, -1.27375331e-02, -2.95526218e-02, -2.14991402e-02,\n",
              "        -2.33447999e-02, -2.24822816e-02, -2.16238629e-02, -2.73809228e-02,\n",
              "        -2.74526738e-02, -1.47306621e-02, -8.72611161e-03, -2.27029137e-02,\n",
              "        -2.56666064e-01,  2.01309901e-02, -2.78362818e-02, -1.32196425e-02,\n",
              "        -3.68555337e-01, -3.17959487e-02,  4.11439575e-02, -7.73238391e-03,\n",
              "         1.19084790e-01, -5.81924478e-03, -3.80066223e-02, -2.83409618e-02,\n",
              "        -2.77255010e-02,  9.79636889e-03, -4.63070571e-02,  4.34117531e-03,\n",
              "        -1.09239528e-03, -4.90654353e-03, -1.46698914e-02, -1.67614203e-02,\n",
              "         2.06727963e-02, -1.44788949e-02, -3.63335162e-02, -5.12822066e-03,\n",
              "        -1.47925979e-02, -1.21094333e-02, -2.07853429e-02, -2.61624977e-02,\n",
              "        -2.70893276e-02, -1.75165106e-02, -4.08978872e-02, -1.54711176e-02,\n",
              "        -1.04238251e-02,  2.46892305e-04,  1.15472980e-01,  2.06251908e-02,\n",
              "        -1.72183570e-02,  1.07728103e-02, -1.09802308e-02, -1.08377999e-02,\n",
              "        -3.91789824e-02, -3.86743285e-02, -2.71803215e-02, -5.61108021e-03,\n",
              "         4.28479686e-02,  1.74604058e-02, -2.13942938e-02, -1.13223745e-02,\n",
              "        -2.92652063e-02, -5.79842366e-03, -1.97778996e-02, -5.31979324e-03,\n",
              "        -2.39734072e-02, -2.12665759e-02, -3.83218676e-02, -5.47354203e-03,\n",
              "         5.83125744e-03, -6.33409023e-02,  1.44783435e-02, -4.65381108e-02,\n",
              "        -1.84124727e-02, -3.64483632e-02,  1.29095316e-02, -1.74755324e-02,\n",
              "        -2.48119459e-02, -4.08875057e-03, -3.07331700e-03, -1.37873366e-02],\n",
              "       dtype=float32),\n",
              " array([[-9.25413799e-03, -3.51801738e-02,  4.10160795e-02, ...,\n",
              "         -2.30388120e-02,  3.37522179e-02, -1.05545454e-01],\n",
              "        [ 2.03040242e-02,  3.46361957e-02,  8.88273644e-05, ...,\n",
              "          6.78481208e-03,  3.33234109e-03,  7.70139843e-02],\n",
              "        [ 3.17405388e-02, -4.93784249e-02,  1.85613036e-02, ...,\n",
              "         -3.96161719e-04, -5.89758419e-02, -1.07589334e-01],\n",
              "        ...,\n",
              "        [ 7.15912506e-02, -5.27889375e-03,  5.92093617e-02, ...,\n",
              "          7.65125379e-02, -4.18128958e-03,  5.31867407e-02],\n",
              "        [ 9.36583206e-02, -5.47329038e-02, -8.58909190e-02, ...,\n",
              "          2.35023014e-02, -7.69813359e-02,  2.08608340e-02],\n",
              "        [-8.99591222e-02, -8.59210789e-02,  7.94580430e-02, ...,\n",
              "         -1.12989441e-01, -7.03043863e-02,  5.22274189e-02]], dtype=float32),\n",
              " array([ 0.00183679, -0.6315663 ,  0.4077101 ,  0.15577054, -0.45949754,\n",
              "         0.09690275,  0.44958   , -0.18423656,  0.52371997, -0.95673925],\n",
              "       dtype=float32)]"
            ]
          },
          "metadata": {
            "tags": []
          },
          "execution_count": 33
        }
      ]
    },
    {
      "cell_type": "code",
      "metadata": {
        "id": "qNm1hYd8Z4EV",
        "colab_type": "code",
        "colab": {}
      },
      "source": [
        "model.save('model_cloth.h5')"
      ],
      "execution_count": null,
      "outputs": []
    },
    {
      "cell_type": "code",
      "metadata": {
        "id": "cbdrYxSGGbjP",
        "colab_type": "code",
        "colab": {}
      },
      "source": [
        ""
      ],
      "execution_count": null,
      "outputs": []
    }
  ]
}